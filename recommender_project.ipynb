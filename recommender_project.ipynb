{
  "nbformat": 4,
  "nbformat_minor": 0,
  "metadata": {
    "colab": {
      "name": "recommender project.ipynb",
      "provenance": [],
      "collapsed_sections": [],
      "authorship_tag": "ABX9TyP7YJbjjaESGfWrdSAh8XX8",
      "include_colab_link": true
    },
    "kernelspec": {
      "name": "python3",
      "display_name": "Python 3"
    },
    "language_info": {
      "name": "python"
    }
  },
  "cells": [
    {
      "cell_type": "markdown",
      "metadata": {
        "id": "view-in-github",
        "colab_type": "text"
      },
      "source": [
        "<a href=\"https://colab.research.google.com/github/Shaddynetwork/unsupervised-predict-streamlit-template/blob/shaddy-one/recommender_project.ipynb\" target=\"_parent\"><img src=\"https://colab.research.google.com/assets/colab-badge.svg\" alt=\"Open In Colab\"/></a>"
      ]
    },
    {
      "cell_type": "markdown",
      "source": [
        "## 1. Problem Statement"
      ],
      "metadata": {
        "id": "sl6MZ5vgt7ba"
      }
    },
    {
      "cell_type": "markdown",
      "source": [
        "## 2. Overview "
      ],
      "metadata": {
        "id": "SMPOB0BZuGYY"
      }
    }
  ]
}